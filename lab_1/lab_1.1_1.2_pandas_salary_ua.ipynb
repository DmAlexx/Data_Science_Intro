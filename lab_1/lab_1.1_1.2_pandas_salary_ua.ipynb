{
 "cells": [
  {
   "cell_type": "markdown",
   "metadata": {
    "colab_type": "text",
    "id": "5zBRFzL2_2FC"
   },
   "source": [
    "# <center>Лабораторна робота № 1.<br> Аналіз даних про доходи населення</center>\n"
   ]
  },
  {
   "cell_type": "markdown",
   "metadata": {
    "colab_type": "text",
    "id": "z6R90pid_2FG"
   },
   "source": [
    "**В завданні пропонується за допомогою Pandas відповісти на декілька питань за даними репозиторія UCI [Adult](https://archive.ics.uci.edu/ml/datasets/Adult) (качати дані не потрібно – вони вже є в директорії роботи). "
   ]
  },
  {
   "cell_type": "markdown",
   "metadata": {
    "colab_type": "text",
    "id": "MxwkytrV_2FI"
   },
   "source": [
    "Унікальні значення ознак (більше інформації за посиланням вище):\n",
    "- age: continuous.\n",
    "- workclass: Private, Self-emp-not-inc, Self-emp-inc, Federal-gov, Local-gov, State-gov, Without-pay, Never-worked.\n",
    "- fnlwgt: continuous.\n",
    "- education: Bachelors, Some-college, 11th, HS-grad, Prof-school, Assoc-acdm, Assoc-voc, 9th, 7th-8th, 12th, Masters, 1st-4th, 10th, Doctorate, 5th-6th, Preschool.\n",
    "- education-num: continuous.\n",
    "- marital-status: Married-civ-spouse, Divorced, Never-married, Separated, Widowed, Married-spouse-absent, Married-AF-spouse.\n",
    "- occupation: Tech-support, Craft-repair, Other-service, Sales, Exec-managerial, Prof-specialty, Handlers-cleaners, Machine-op-inspct, Adm-clerical, Farming-fishing, Transport-moving, Priv-house-serv, Protective-serv, Armed-Forces.\n",
    "- relationship: Wife, Own-child, Husband, Not-in-family, Other-relative, Unmarried.\n",
    "- race: White, Asian-Pac-Islander, Amer-Indian-Eskimo, Other, Black.\n",
    "- sex: Female, Male.\n",
    "- capital-gain: continuous.\n",
    "- capital-loss: continuous.\n",
    "- hours-per-week: continuous.\n",
    "- native-country: United-States, Cambodia, England, Puerto-Rico, Canada, Germany, Outlying-US(Guam-USVI-etc), India, Japan, Greece, South, China, Cuba, Iran, Honduras, Philippines, Italy, Poland, Jamaica, Vietnam, Mexico, Portugal, Ireland, France, Dominican-Republic, Laos, Ecuador, Taiwan, Haiti, Columbia, Hungary, Guatemala, Nicaragua, Scotland, Thailand, Yugoslavia, El-Salvador, Trinadad&Tobago, Peru, Hong, Holand-Netherlands.   \n",
    "- salary: >50K,<=50K"
   ]
  },
  {
   "cell_type": "code",
   "execution_count": 25,
   "metadata": {
    "colab": {},
    "colab_type": "code",
    "id": "dAcRofrV_2FL"
   },
   "outputs": [],
   "source": [
    "import pandas as pd"
   ]
  },
  {
   "cell_type": "markdown",
   "metadata": {
    "colab_type": "text",
    "id": "istSW2ZaACJD"
   },
   "source": [
    "**Доступ до даних на google drive**, якщо ви відкриваєте блокнот в **google colab**, а не на PC, можна отримати шляхом монтування google drive"
   ]
  },
  {
   "cell_type": "code",
   "execution_count": 26,
   "metadata": {
    "colab": {},
    "colab_type": "code",
    "id": "GsUQGVduASh6"
   },
   "outputs": [],
   "source": [
    "# шлях до папки з даними\n",
    "data_folder = 'data/' "
   ]
  },
  {
   "cell_type": "code",
   "execution_count": 27,
   "metadata": {
    "colab": {},
    "colab_type": "code",
    "id": "7TKPKYri_2FZ",
    "outputId": "6cf5a8e4-1f9a-4e5d-8177-1a11db39e232"
   },
   "outputs": [
    {
     "data": {
      "text/html": [
       "<div>\n",
       "<style scoped>\n",
       "    .dataframe tbody tr th:only-of-type {\n",
       "        vertical-align: middle;\n",
       "    }\n",
       "\n",
       "    .dataframe tbody tr th {\n",
       "        vertical-align: top;\n",
       "    }\n",
       "\n",
       "    .dataframe thead th {\n",
       "        text-align: right;\n",
       "    }\n",
       "</style>\n",
       "<table border=\"1\" class=\"dataframe\">\n",
       "  <thead>\n",
       "    <tr style=\"text-align: right;\">\n",
       "      <th></th>\n",
       "      <th>age</th>\n",
       "      <th>workclass</th>\n",
       "      <th>fnlwgt</th>\n",
       "      <th>education</th>\n",
       "      <th>education-num</th>\n",
       "      <th>marital-status</th>\n",
       "      <th>occupation</th>\n",
       "      <th>relationship</th>\n",
       "      <th>race</th>\n",
       "      <th>sex</th>\n",
       "      <th>capital-gain</th>\n",
       "      <th>capital-loss</th>\n",
       "      <th>hours-per-week</th>\n",
       "      <th>native-country</th>\n",
       "      <th>salary</th>\n",
       "    </tr>\n",
       "  </thead>\n",
       "  <tbody>\n",
       "    <tr>\n",
       "      <th>0</th>\n",
       "      <td>39</td>\n",
       "      <td>State-gov</td>\n",
       "      <td>77516</td>\n",
       "      <td>Bachelors</td>\n",
       "      <td>13</td>\n",
       "      <td>Never-married</td>\n",
       "      <td>Adm-clerical</td>\n",
       "      <td>Not-in-family</td>\n",
       "      <td>White</td>\n",
       "      <td>Male</td>\n",
       "      <td>2174</td>\n",
       "      <td>0</td>\n",
       "      <td>40</td>\n",
       "      <td>United-States</td>\n",
       "      <td>&lt;=50K</td>\n",
       "    </tr>\n",
       "    <tr>\n",
       "      <th>1</th>\n",
       "      <td>50</td>\n",
       "      <td>Self-emp-not-inc</td>\n",
       "      <td>83311</td>\n",
       "      <td>Bachelors</td>\n",
       "      <td>13</td>\n",
       "      <td>Married-civ-spouse</td>\n",
       "      <td>Exec-managerial</td>\n",
       "      <td>Husband</td>\n",
       "      <td>White</td>\n",
       "      <td>Male</td>\n",
       "      <td>0</td>\n",
       "      <td>0</td>\n",
       "      <td>13</td>\n",
       "      <td>United-States</td>\n",
       "      <td>&lt;=50K</td>\n",
       "    </tr>\n",
       "    <tr>\n",
       "      <th>2</th>\n",
       "      <td>38</td>\n",
       "      <td>Private</td>\n",
       "      <td>215646</td>\n",
       "      <td>HS-grad</td>\n",
       "      <td>9</td>\n",
       "      <td>Divorced</td>\n",
       "      <td>Handlers-cleaners</td>\n",
       "      <td>Not-in-family</td>\n",
       "      <td>White</td>\n",
       "      <td>Male</td>\n",
       "      <td>0</td>\n",
       "      <td>0</td>\n",
       "      <td>40</td>\n",
       "      <td>United-States</td>\n",
       "      <td>&lt;=50K</td>\n",
       "    </tr>\n",
       "    <tr>\n",
       "      <th>3</th>\n",
       "      <td>53</td>\n",
       "      <td>Private</td>\n",
       "      <td>234721</td>\n",
       "      <td>11th</td>\n",
       "      <td>7</td>\n",
       "      <td>Married-civ-spouse</td>\n",
       "      <td>Handlers-cleaners</td>\n",
       "      <td>Husband</td>\n",
       "      <td>Black</td>\n",
       "      <td>Male</td>\n",
       "      <td>0</td>\n",
       "      <td>0</td>\n",
       "      <td>40</td>\n",
       "      <td>United-States</td>\n",
       "      <td>&lt;=50K</td>\n",
       "    </tr>\n",
       "    <tr>\n",
       "      <th>4</th>\n",
       "      <td>28</td>\n",
       "      <td>Private</td>\n",
       "      <td>338409</td>\n",
       "      <td>Bachelors</td>\n",
       "      <td>13</td>\n",
       "      <td>Married-civ-spouse</td>\n",
       "      <td>Prof-specialty</td>\n",
       "      <td>Wife</td>\n",
       "      <td>Black</td>\n",
       "      <td>Female</td>\n",
       "      <td>0</td>\n",
       "      <td>0</td>\n",
       "      <td>40</td>\n",
       "      <td>Cuba</td>\n",
       "      <td>&lt;=50K</td>\n",
       "    </tr>\n",
       "  </tbody>\n",
       "</table>\n",
       "</div>"
      ],
      "text/plain": [
       "   age         workclass  fnlwgt  education  education-num  \\\n",
       "0   39         State-gov   77516  Bachelors             13   \n",
       "1   50  Self-emp-not-inc   83311  Bachelors             13   \n",
       "2   38           Private  215646    HS-grad              9   \n",
       "3   53           Private  234721       11th              7   \n",
       "4   28           Private  338409  Bachelors             13   \n",
       "\n",
       "       marital-status         occupation   relationship   race     sex  \\\n",
       "0       Never-married       Adm-clerical  Not-in-family  White    Male   \n",
       "1  Married-civ-spouse    Exec-managerial        Husband  White    Male   \n",
       "2            Divorced  Handlers-cleaners  Not-in-family  White    Male   \n",
       "3  Married-civ-spouse  Handlers-cleaners        Husband  Black    Male   \n",
       "4  Married-civ-spouse     Prof-specialty           Wife  Black  Female   \n",
       "\n",
       "   capital-gain  capital-loss  hours-per-week native-country salary  \n",
       "0          2174             0              40  United-States  <=50K  \n",
       "1             0             0              13  United-States  <=50K  \n",
       "2             0             0              40  United-States  <=50K  \n",
       "3             0             0              40  United-States  <=50K  \n",
       "4             0             0              40           Cuba  <=50K  "
      ]
     },
     "execution_count": 27,
     "metadata": {},
     "output_type": "execute_result"
    }
   ],
   "source": [
    "#data = pd.read_csv('data/adult.data.csv')\n",
    "data = pd.read_csv(data_folder+'/adult.data.csv')\n",
    "data.head()"
   ]
  },
  {
   "cell_type": "markdown",
   "metadata": {
    "colab_type": "text",
    "id": "Hgr_H7ct_2Fj"
   },
   "source": [
    "**1. Скільки чоловіків і жінок (ознака *sex*) представлено в цьому наборі даних?**"
   ]
  },
  {
   "cell_type": "code",
   "execution_count": 28,
   "metadata": {
    "colab": {},
    "colab_type": "code",
    "id": "G1649bdm_2Fj"
   },
   "outputs": [
    {
     "name": "stdout",
     "output_type": "stream",
     "text": [
      "sex\n",
      "Male      21790\n",
      "Female    10771\n",
      "Name: count, dtype: int64\n"
     ]
    }
   ],
   "source": [
    "# Ваш код тут\n",
    "# Підрахунок кількості чоловіків та жінок 'sex'\n",
    "sex_counts = data['sex'].value_counts()\n",
    "\n",
    "# Вивід результату\n",
    "print(sex_counts)"
   ]
  },
  {
   "cell_type": "markdown",
   "metadata": {
    "colab_type": "text",
    "id": "H72jFe22_2Fq"
   },
   "source": [
    "**2. Який середній вік (ознака *age*) жінок?**"
   ]
  },
  {
   "cell_type": "code",
   "execution_count": 29,
   "metadata": {
    "colab": {},
    "colab_type": "code",
    "id": "PzYtxiSB_2Fr"
   },
   "outputs": [
    {
     "name": "stdout",
     "output_type": "stream",
     "text": [
      "Середній вік жінок: 36.85823043357163\n"
     ]
    }
   ],
   "source": [
    "# Ваш код тут\n",
    "average_age_women = data[data['sex'] == 'Female']['age'].mean()\n",
    "\n",
    "# Вывести результат\n",
    "print(f\"Середній вік жінок: {average_age_women}\")"
   ]
  },
  {
   "cell_type": "markdown",
   "metadata": {
    "colab_type": "text",
    "id": "PzxSUYJy_2Fy"
   },
   "source": [
    "**3. Яка частка громадян Німеччини (ознака *native-country*)?**"
   ]
  },
  {
   "cell_type": "code",
   "execution_count": 30,
   "metadata": {
    "colab": {},
    "colab_type": "code",
    "id": "ptbH1MSd_2Fz"
   },
   "outputs": [
    {
     "name": "stdout",
     "output_type": "stream",
     "text": [
      "Частка громадян Німеччини: 0.004207487485028101\n"
     ]
    }
   ],
   "source": [
    "# Ваш код тут\n",
    "# Розрахуємо загальну кількість громадян\n",
    "total_count = len(data)\n",
    "\n",
    "# Отримаємо кількість громадян Німеччини\n",
    "germany_count = data[data['native-country'] == 'Germany'].shape[0]\n",
    "\n",
    "# Розрахуємо частку громадян Німеччини\n",
    "germany_share = germany_count / total_count\n",
    "\n",
    "# Вывести результат\n",
    "print(f\"Частка громадян Німеччини: {germany_share}\")"
   ]
  },
  {
   "cell_type": "markdown",
   "metadata": {
    "colab_type": "text",
    "id": "3pHUTL4c_2F9"
   },
   "source": [
    "**4-5. Які середні значення і середні відхилення віку тих, хто отримує більше 50K в рік (ознака *salary*) і тих, хто отримує менше 50K в рік? **"
   ]
  },
  {
   "cell_type": "code",
   "execution_count": 41,
   "metadata": {
    "colab": {},
    "colab_type": "code",
    "id": "9zOViotb_2F-"
   },
   "outputs": [
    {
     "name": "stdout",
     "output_type": "stream",
     "text": [
      "Середній вік тих, хто отримує більше 50К: 44.25 років\n",
      "Стандартне відхилення віку тих, хто отримує більше 50К: 10.52 років\n",
      "Середній вік тих, хто отримує менше або дорівнює 50К: 36.78 років\n",
      "Стандартне відхилення віку тих, хто отримує менше або дорівнює 50К: 14.02 років\n"
     ]
    }
   ],
   "source": [
    "# Ваш код тут\n",
    "# Середній вік і стандарте відхилення для тих, хто отримує більше 50К\n",
    "mean_age_more_50k = data[data['salary'] == '>50K']['age'].mean()\n",
    "std_age_more_50k = data[data['salary'] == '>50K']['age'].std()\n",
    "\n",
    "# Середній вік і стандарте відхилення для тих, хто отримує менше або дорівнює 50К\n",
    "mean_age_less_50k = data[data['salary'] == '<=50K']['age'].mean()\n",
    "std_age_less_50k = data[data['salary'] == '<=50K']['age'].std()\n",
    "\n",
    "# Виведення результатів\n",
    "print(f\"Середній вік тих, хто отримує більше 50К: {mean_age_more_50k:.2f} років\")\n",
    "print(f\"Стандартне відхилення віку тих, хто отримує більше 50К: {std_age_more_50k:.2f} років\")\n",
    "print(f\"Середній вік тих, хто отримує менше або дорівнює 50К: {mean_age_less_50k:.2f} років\")\n",
    "print(f\"Стандартне відхилення віку тих, хто отримує менше або дорівнює 50К: {std_age_less_50k:.2f} років\")"
   ]
  },
  {
   "cell_type": "markdown",
   "metadata": {
    "colab_type": "text",
    "id": "80GdqlpD_2GE"
   },
   "source": [
    "**6. Чи правда, що люди, які отримують більше 50k, мають як мінімум вищу освіту? (ознака *education – Bachelors, Prof-school, Assoc-acdm, Assoc-voc, Masters* чи *Doctorate*)**"
   ]
  },
  {
   "cell_type": "code",
   "execution_count": 33,
   "metadata": {
    "colab": {},
    "colab_type": "code",
    "id": "W8_yhtX__2GF"
   },
   "outputs": [
    {
     "name": "stdout",
     "output_type": "stream",
     "text": [
      "Ні, не всі люди, які отримують більше 50K, мають вищу освіту.\n"
     ]
    }
   ],
   "source": [
    "# Ваш код тут\n",
    "\n",
    "# Визначаємо список рівнів освіти, які вважаються як мінімум вищою освітою\n",
    "higher_education = ['Bachelors', 'Prof-school', 'Assoc-acdm', 'Assoc-voc', 'Masters', 'Doctorate']\n",
    "\n",
    "# Фільтруємо дані, щоб вибрати лише тих людей, які отримують більше 50K\n",
    "more_50k = data[data['salary'] == '>50K']\n",
    "\n",
    "# Перевіряємо, чи всі ці люди мають вищу освіту\n",
    "all_have_higher_education = more_50k['education'].isin(higher_education).all()\n",
    "\n",
    "# Виводимо результат:\n",
    "# Якщо всі люди з зарплатою більше 50K мають як мінімум вищу освіту, виводимо \"Так\".\n",
    "# Якщо хоча б одна людина не має вищої освіти, виводимо \"Ні\".\n",
    "if all_have_higher_education:\n",
    "    print(\"Так, всі люди, які отримують більше 50K, мають вищу освіту.\")\n",
    "else:\n",
    "    print(\"Ні, не всі люди, які отримують більше 50K, мають вищу освіту.\")\n"
   ]
  },
  {
   "cell_type": "markdown",
   "metadata": {
    "colab_type": "text",
    "id": "_8PB0lC0_2GL"
   },
   "source": [
    "**7. Вивести статистику віку для кажної раси (ознака *race*) і кожної статі. Використовуйте *groupby* і *describe*. Знайдіть таким чином максимальний вік чоловіків раси *Amer-Indian-Eskimo*.**"
   ]
  },
  {
   "cell_type": "code",
   "execution_count": 34,
   "metadata": {
    "colab": {},
    "colab_type": "code",
    "id": "intQYoXo_2GM"
   },
   "outputs": [
    {
     "name": "stdout",
     "output_type": "stream",
     "text": [
      "                             count       mean        std   min   25%   50%  \\\n",
      "race               sex                                                       \n",
      "Amer-Indian-Eskimo Female    119.0  37.117647  13.114991  17.0  27.0  36.0   \n",
      "                   Male      192.0  37.208333  12.049563  17.0  28.0  35.0   \n",
      "Asian-Pac-Islander Female    346.0  35.089595  12.300845  17.0  25.0  33.0   \n",
      "                   Male      693.0  39.073593  12.883944  18.0  29.0  37.0   \n",
      "Black              Female   1555.0  37.854019  12.637197  17.0  28.0  37.0   \n",
      "                   Male     1569.0  37.682600  12.882612  17.0  27.0  36.0   \n",
      "Other              Female    109.0  31.678899  11.631599  17.0  23.0  29.0   \n",
      "                   Male      162.0  34.654321  11.355531  17.0  26.0  32.0   \n",
      "White              Female   8642.0  36.811618  14.329093  17.0  25.0  35.0   \n",
      "                   Male    19174.0  39.652498  13.436029  17.0  29.0  38.0   \n",
      "\n",
      "                             75%   max  \n",
      "race               sex                  \n",
      "Amer-Indian-Eskimo Female  46.00  80.0  \n",
      "                   Male    45.00  82.0  \n",
      "Asian-Pac-Islander Female  43.75  75.0  \n",
      "                   Male    46.00  90.0  \n",
      "Black              Female  46.00  90.0  \n",
      "                   Male    46.00  90.0  \n",
      "Other              Female  39.00  74.0  \n",
      "                   Male    42.00  77.0  \n",
      "White              Female  46.00  90.0  \n",
      "                   Male    49.00  90.0  \n",
      "Максимальний вік чоловіків раси Amer-Indian-Eskimo: 82\n"
     ]
    }
   ],
   "source": [
    "# Ваш код тут\n",
    "# Групуємо дані за ознаками 'race' і 'sex' та виводимо статистику для віку\n",
    "age_stats = data.groupby(['race', 'sex'])['age'].describe()\n",
    "\n",
    "# Виводимо статистику віку для кожної раси і кожної статі\n",
    "print(age_stats)\n",
    "\n",
    "# Знаходимо максимальний вік для чоловіків раси Amer-Indian-Eskimo\n",
    "max_age_amerindian_eskimo_male = data[(data['race'] == 'Amer-Indian-Eskimo') & (data['sex'] == 'Male')]['age'].max()\n",
    "\n",
    "# Виводимо максимальний вік чоловіків раси Amer-Indian-Eskimo\n",
    "print(f\"Максимальний вік чоловіків раси Amer-Indian-Eskimo: {max_age_amerindian_eskimo_male}\")"
   ]
  },
  {
   "cell_type": "markdown",
   "metadata": {
    "colab_type": "text",
    "id": "dtOsfHwm_2GT"
   },
   "source": [
    "**8. Серед кого більша частка заробляючих багато (>50K): серед одружених чи холостих чоловіків (ознака *marital-status*)? Одруженими вважаємо тих, у кого *marital-status* починається з *Married* (Married-civ-spouse, Married-spouse-absent чи Married-AF-spouse), решту вважаємо холостими.**"
   ]
  },
  {
   "cell_type": "code",
   "execution_count": 38,
   "metadata": {
    "colab": {},
    "colab_type": "code",
    "id": "gOmVYSI9_2GU"
   },
   "outputs": [
    {
     "name": "stdout",
     "output_type": "stream",
     "text": [
      "Загальна кількість чоловіків, що заробляють більше 50K:\n",
      "Married    5965\n",
      "Single      697\n",
      "Name: salary, dtype: int64\n",
      "\n",
      "Частка чоловіків, що заробляють більше 50K:\n",
      "Married    44.051399\n",
      "Single      8.449509\n",
      "Name: salary, dtype: float64\n"
     ]
    }
   ],
   "source": [
    "# Ваш код тут\n",
    "# Фільтруємо тільки чоловіків\n",
    "men = data[data['sex'] == 'Male']\n",
    "\n",
    "# Фільтруємо чоловіків, які заробляють більше 50K\n",
    "high_earners = men[men['salary'] == '>50K']\n",
    "\n",
    "# Групуємо чоловіків по \"одружен\" або \"холост\" і рахуємо кількість у кожній групі\n",
    "total_men_group = men.groupby(men['marital-status'].apply(lambda x: 'Married' if x.startswith('Married') else 'Single'))['salary'].count()\n",
    "\n",
    "# Рахуємо кількість чоловіків, які заробляють більше 50K, у кожній групі\n",
    "high_earners_group = high_earners.groupby(high_earners['marital-status'].apply(lambda x: 'Married' if x.startswith('Married') else 'Single'))['salary'].count()\n",
    "\n",
    "# Розраховуємо частку заробляючих більше 50K\n",
    "share_high_earners = (high_earners_group / total_men_group) * 100\n",
    "share_high_earners.index.name = None\n",
    "\n",
    "# Виводимо загальну кількість чоловіків, що заробляють більше 50K, і частку в кожній групі\n",
    "print(\"Загальна кількість чоловіків, що заробляють більше 50K:\")\n",
    "print(high_earners_group)\n",
    "\n",
    "print(\"\\nЧастка чоловіків, що заробляють більше 50K:\")\n",
    "print(share_high_earners)"
   ]
  },
  {
   "cell_type": "markdown",
   "metadata": {
    "colab_type": "text",
    "id": "W3pMpNSt_2Ga"
   },
   "source": [
    "**9. Яку максимальну кількість годин людина працює за тиждень (ознака *hours-per-week*)? Скільки людей працюють таку кількість годин і який серед них відсоток заробляючих багато?**"
   ]
  },
  {
   "cell_type": "code",
   "execution_count": 39,
   "metadata": {
    "colab": {},
    "colab_type": "code",
    "id": "L9TbItTm_2Gb"
   },
   "outputs": [
    {
     "name": "stdout",
     "output_type": "stream",
     "text": [
      "Максимальна кількість годин на тиждень: 99\n",
      "Кількість людей, які працюють 99 годин: 85\n",
      "Відсоток людей, які заробляють більше 50K серед тих, хто працює 99 годин: 29.41%\n"
     ]
    }
   ],
   "source": [
    "# Ваш код тут\n",
    "# Знаходимо максимальну кількість годин, яку людина працює за тиждень\n",
    "max_hours_per_week = data['hours-per-week'].max()\n",
    "\n",
    "# Фільтруємо людей, які працюють максимальну кількість годин\n",
    "people_with_max_hours = data[data['hours-per-week'] == max_hours_per_week]\n",
    "\n",
    "# Кількість людей, які працюють таку кількість годин\n",
    "num_people_with_max_hours = people_with_max_hours.shape[0]\n",
    "\n",
    "# Кількість людей з цієї групи, які заробляють більше 50K\n",
    "high_earners_with_max_hours = people_with_max_hours[people_with_max_hours['salary'] == '>50K'].shape[0]\n",
    "\n",
    "# Розраховуємо відсоток заробляючих більше 50K серед тих, хто працює максимальну кількість годин\n",
    "percentage_high_earners = (high_earners_with_max_hours / num_people_with_max_hours) * 100\n",
    "\n",
    "# Виводимо результати\n",
    "print(f\"Максимальна кількість годин на тиждень: {max_hours_per_week}\")\n",
    "print(f\"Кількість людей, які працюють {max_hours_per_week} годин: {num_people_with_max_hours}\")\n",
    "print(f\"Відсоток людей, які заробляють більше 50K серед тих, хто працює {max_hours_per_week} годин: {percentage_high_earners:.2f}%\")"
   ]
  },
  {
   "cell_type": "markdown",
   "metadata": {
    "colab_type": "text",
    "id": "0e-BYeXl_2Gi"
   },
   "source": [
    "**10. Підрахуйте середній час роботи (*hours-per-week*) заробляючих мало і багато (*salary*) для кожної країни (*native-country*).**"
   ]
  },
  {
   "cell_type": "code",
   "execution_count": 40,
   "metadata": {
    "colab": {},
    "colab_type": "code",
    "id": "rJenfSYF_2Gj"
   },
   "outputs": [
    {
     "name": "stdout",
     "output_type": "stream",
     "text": [
      "Середній час роботи (hours-per-week) для кожної країни та рівня зарплати:\n",
      "salary                          <=50K       >50K\n",
      "native-country                                  \n",
      "?                           40.164760  45.547945\n",
      "Cambodia                    41.416667  40.000000\n",
      "Canada                      37.914634  45.641026\n",
      "China                       37.381818  38.900000\n",
      "Columbia                    38.684211  50.000000\n",
      "Cuba                        37.985714  42.440000\n",
      "Dominican-Republic          42.338235  47.000000\n",
      "Ecuador                     38.041667  48.750000\n",
      "El-Salvador                 36.030928  45.000000\n",
      "England                     40.483333  44.533333\n",
      "France                      41.058824  50.750000\n",
      "Germany                     39.139785  44.977273\n",
      "Greece                      41.809524  50.625000\n",
      "Guatemala                   39.360656  36.666667\n",
      "Haiti                       36.325000  42.750000\n",
      "Holand-Netherlands          40.000000        NaN\n",
      "Honduras                    34.333333  60.000000\n",
      "Hong                        39.142857  45.000000\n",
      "Hungary                     31.300000  50.000000\n",
      "India                       38.233333  46.475000\n",
      "Iran                        41.440000  47.500000\n",
      "Ireland                     40.947368  48.000000\n",
      "Italy                       39.625000  45.400000\n",
      "Jamaica                     38.239437  41.100000\n",
      "Japan                       41.000000  47.958333\n",
      "Laos                        40.375000  40.000000\n",
      "Mexico                      40.003279  46.575758\n",
      "Nicaragua                   36.093750  37.500000\n",
      "Outlying-US(Guam-USVI-etc)  41.857143        NaN\n",
      "Peru                        35.068966  40.000000\n",
      "Philippines                 38.065693  43.032787\n",
      "Poland                      38.166667  39.000000\n",
      "Portugal                    41.939394  41.500000\n",
      "Puerto-Rico                 38.470588  39.416667\n",
      "Scotland                    39.444444  46.666667\n",
      "South                       40.156250  51.437500\n",
      "Taiwan                      33.774194  46.800000\n",
      "Thailand                    42.866667  58.333333\n",
      "Trinadad&Tobago             37.058824  40.000000\n",
      "United-States               38.799127  45.505369\n",
      "Vietnam                     37.193548  39.200000\n",
      "Yugoslavia                  41.600000  49.500000\n"
     ]
    }
   ],
   "source": [
    "# Ваш код тут\n",
    "# Групуємо дані за країною та рівнем зарплати і обчислюємо середній час роботи\n",
    "average_hours_per_week = data.groupby(['native-country', 'salary'])['hours-per-week'].mean().unstack()\n",
    "\n",
    "# Виводимо результати\n",
    "print(\"Середній час роботи (hours-per-week) для кожної країни та рівня зарплати:\")\n",
    "print(average_hours_per_week)"
   ]
  }
 ],
 "metadata": {
  "anaconda-cloud": {},
  "colab": {
   "collapsed_sections": [],
   "name": "lab1_pandas_salary.ipynb",
   "provenance": []
  },
  "kernelspec": {
   "display_name": "Python 3 (ipykernel)",
   "language": "python",
   "name": "python3"
  },
  "language_info": {
   "codemirror_mode": {
    "name": "ipython",
    "version": 3
   },
   "file_extension": ".py",
   "mimetype": "text/x-python",
   "name": "python",
   "nbconvert_exporter": "python",
   "pygments_lexer": "ipython3",
   "version": "3.12.5"
  }
 },
 "nbformat": 4,
 "nbformat_minor": 1
}
